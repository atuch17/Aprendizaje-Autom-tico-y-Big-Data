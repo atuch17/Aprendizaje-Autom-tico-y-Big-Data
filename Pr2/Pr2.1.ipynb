{
 "cells": [
  {
   "cell_type": "markdown",
   "metadata": {},
   "source": [
    "# PRÁCTICA 2.1 - VÍCTOR CHOZA MERINO - ADRIÁN TURIEL CHARRO"
   ]
  },
  {
   "cell_type": "markdown",
   "metadata": {},
   "source": [
    "## 1. Regresión logística"
   ]
  },
  {
   "cell_type": "code",
   "execution_count": 1,
   "metadata": {},
   "outputs": [],
   "source": [
    "import matplotlib.pyplot as plt\n",
    "import numpy as np\n",
    "from pandas.io.parsers import read_csv\n",
    "import scipy.optimize as opt"
   ]
  },
  {
   "cell_type": "code",
   "execution_count": 2,
   "metadata": {},
   "outputs": [],
   "source": [
    "def sigmoide(z): #g(z)\n",
    "    return (1 / (1 + np.exp(-z)))"
   ]
  },
  {
   "cell_type": "code",
   "execution_count": 3,
   "metadata": {},
   "outputs": [],
   "source": [
    "def hipotesis(X, Thetas):\n",
    "    return sigmoide(np.matmul(X, Thetas))"
   ]
  },
  {
   "cell_type": "code",
   "execution_count": 4,
   "metadata": {},
   "outputs": [],
   "source": [
    "def gradiente(Thetas, X, Y):\n",
    "    H = sigmoide(np.matmul(X, Thetas))   #Hipótesis\n",
    "    #Thetas -= np.matmul(H - Y,X)*(alpha/len(X))\n",
    "    return np.matmul(X.T, H - Y)*(1/len(X))"
   ]
  },
  {
   "cell_type": "code",
   "execution_count": 5,
   "metadata": {},
   "outputs": [],
   "source": [
    "def coste(Thetas, X, Y):\n",
    "    H = sigmoide(np.matmul(X, Thetas))\n",
    "    return (- 1 / (len(X))) * (np.dot(Y, np.log(H)) + np.dot((1 - Y), np.log(1 - H)))"
   ]
  },
  {
   "cell_type": "code",
   "execution_count": 6,
   "metadata": {},
   "outputs": [],
   "source": [
    "def porcentaje_aprobado(X, Y, Thetas):\n",
    "    H = hipotesis(X, Thetas)\n",
    "    # (H >= 0.5) -> Los valores mayores de 0.5 se ponen a 1 (True)\n",
    "    # y los demás a 0 (False)\n",
    "    \n",
    "    # (np.sum((H >= 0.5)==Y) -> Número de valores cuyo valor real es 1 y\n",
    "    # su valor correspondiente a la hipótesis es 1 (True)\n",
    "    return (np.sum((H >= 0.5)==Y)/len(X))*100"
   ]
  },
  {
   "cell_type": "code",
   "execution_count": 7,
   "metadata": {},
   "outputs": [],
   "source": [
    "def pinta_frontera_recta(X, Y, Theta):\n",
    "    plt.figure()\n",
    "    X = X[:,1:np.shape(X)[1]]  # Todas las columnas menos la de unos\n",
    "    x1_min, x1_max = X[:, 0].min(), X[:, 0].max()\n",
    "    x2_min, x2_max = X[:, 1].min(), X[:, 1].max()\n",
    "\n",
    "    xx1, xx2 = np.meshgrid(np.linspace(x1_min, x1_max), np.linspace(x2_min, x2_max))\n",
    "\n",
    "    aux = np.c_[np.ones((xx1.ravel().shape[0], 1)), xx1.ravel(), xx2.ravel()]\n",
    "    h = sigmoide(aux.dot(Theta))\n",
    "    h = h.reshape(xx1.shape)\n",
    "\n",
    "    # Obtiene un vector con los índices de los ejemplos positivos\n",
    "    pos1 = np.where(Y == 1)\n",
    "    # Obtiene un vector con los índices de los ejemplos negativos\n",
    "    pos2 = np.where(Y == 0)\n",
    "\n",
    "    # Dibuja los ejemplos positivos\n",
    "    plt.scatter(X[pos1, 0],X[pos1, 1],marker='+',c='k',label='Admited' )\n",
    "    # Dibuja los ejemplos negativos\n",
    "    plt.scatter(X[pos2, 0],X[pos2, 1],marker='o',c='g',label='Not admited'  )\n",
    "\n",
    "    plt.legend()     # parar mostrar la leyenda\n",
    "    plt.contour(xx1, xx2, h, [0.5], linewidths=1, colors='b')\n",
    "    plt.show()\n",
    "    plt.savefig(\"frontera.pdf\")\n",
    "    plt.close()"
   ]
  },
  {
   "cell_type": "code",
   "execution_count": 8,
   "metadata": {},
   "outputs": [],
   "source": [
    "def regresion_logistica(datos):\n",
    "    valores = read_csv(datos, header=None).to_numpy()\n",
    "    X = valores[:,:-1]\n",
    "    Y = valores[:,-1]\n",
    "\n",
    "    m = np.shape(X)[0]   #Filas\n",
    "    n = np.shape(X)[1]   #Columnas\n",
    "         \n",
    "    X = np.hstack([np.ones([m, 1]), X]) \n",
    "    \n",
    "    Thetas = np.zeros(n+1)    #Thetas calculadas\n",
    "    \n",
    "    result = opt.fmin_tnc (func=coste , x0=Thetas , fprime=gradiente , args =(X, Y))\n",
    "    Thetas = result [0]\n",
    "\n",
    "    pinta_frontera_recta(X, Y, Thetas)\n",
    "    \n",
    "    return X, Y, Thetas"
   ]
  },
  {
   "cell_type": "code",
   "execution_count": 9,
   "metadata": {
    "scrolled": true
   },
   "outputs": [
    {
     "data": {
      "image/png": "[encoded data removed]",
      "text/plain": [
       "<Figure size 432x288 with 1 Axes>"
      ]
     },
     "metadata": {
      "needs_background": "light"
     },
     "output_type": "display_data"
    },
    {
     "name": "stdout",
     "output_type": "stream",
     "text": [
      "89.0 % de aprobados\n"
     ]
    }
   ],
   "source": [
    "X, Y, Thetas = regresion_logistica(\"ex2data1.csv\")\n",
    "print (porcentaje_aprobado(X, Y, Thetas), \"%\" \" de aprobados\")"
   ]
  }
 ],
 "metadata": {
  "kernelspec": {
   "display_name": "Python 3",
   "language": "python",
   "name": "python3"
  },
  "language_info": {
   "codemirror_mode": {
    "name": "ipython",
    "version": 3
   },
   "file_extension": ".py",
   "mimetype": "text/x-python",
   "name": "python",
   "nbconvert_exporter": "python",
   "pygments_lexer": "ipython3",
   "version": "3.8.3"
  }
 },
 "nbformat": 4,
 "nbformat_minor": 4
}
