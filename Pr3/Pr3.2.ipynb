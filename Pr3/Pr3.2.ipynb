{
 "cells": [
  {
   "cell_type": "markdown",
   "metadata": {},
   "source": [
    "# PRÁCTICA 3.2 - VÍCTOR CHOZA MERINO - ADRIÁN TURIEL CHARRO"
   ]
  },
  {
   "cell_type": "markdown",
   "metadata": {},
   "source": [
    "## 2. Redes neuronales"
   ]
  },
  {
   "cell_type": "code",
   "execution_count": 61,
   "metadata": {},
   "outputs": [],
   "source": [
    "import matplotlib.pyplot as plt\n",
    "import numpy as np\n",
    "from scipy.io import loadmat"
   ]
  },
  {
   "cell_type": "code",
   "execution_count": 62,
   "metadata": {},
   "outputs": [],
   "source": [
    "def sigmoide(z): #g(z)\n",
    "    return (1 / (1 + np.exp(-z)))"
   ]
  },
  {
   "cell_type": "code",
   "execution_count": 69,
   "metadata": {},
   "outputs": [],
   "source": [
    "def propagacion_hacia_adelante(Theta1, Theta2, X):\n",
    "    m = X.shape[0]\n",
    "    X = np.hstack((np.ones((m,1)),X))\n",
    "    \n",
    "    a1 = sigmoide(X @ Theta1.T)\n",
    "    a1 = np.hstack((np.ones((m,1)), a1)) \n",
    "    a2 = sigmoide(a1 @ Theta2.T) # h       \n",
    "    \n",
    "    return a2"
   ]
  },
  {
   "cell_type": "code",
   "execution_count": 70,
   "metadata": {},
   "outputs": [],
   "source": [
    "def porcentaje_acertado(X, y, H):\n",
    "    \n",
    "    pos_max = np.argmax(H,axis=1)+1\n",
    "    suma = sum(pos_max[:,np.newaxis]==y)\n",
    "                \n",
    "    return ((suma/np.shape(H)[0])*100)[0]"
   ]
  },
  {
   "cell_type": "code",
   "execution_count": 71,
   "metadata": {},
   "outputs": [],
   "source": [
    "def redes_neuronales(weights, data):\n",
    "    data = loadmat (data)\n",
    "    # se pueden consultar claves con data.keys()\n",
    "    y = data ['y'] # (5000,1)\n",
    "    X = data ['X'] # (5000,400) Cada fila es una imagen de 20x20 píxeles (400)\n",
    "    \n",
    "    mat2=loadmat(weights)\n",
    "    Theta1=mat2[\"Theta1\"] # Theta1 has size 25 x 401  # 25 nodos en la red oculta\n",
    "    Theta2=mat2[\"Theta2\"] # Theta2 has size 10 x 26   # 10 nodos de salida\n",
    "    \n",
    "    H = propagacion_hacia_adelante(Theta1, Theta2, X)\n",
    "    \n",
    "    print(\"Precisión:\",porcentaje_acertado(X, y, H),\"%\") "
   ]
  },
  {
   "cell_type": "code",
   "execution_count": 72,
   "metadata": {},
   "outputs": [
    {
     "name": "stdout",
     "output_type": "stream",
     "text": [
      "Precisión: 97.52 %\n"
     ]
    }
   ],
   "source": [
    "redes_neuronales('ex3weights.mat', 'ex3data1.mat')"
   ]
  },
  {
   "cell_type": "code",
   "execution_count": null,
   "metadata": {},
   "outputs": [],
   "source": []
  }
 ],
 "metadata": {
  "kernelspec": {
   "display_name": "Python 3",
   "language": "python",
   "name": "python3"
  },
  "language_info": {
   "codemirror_mode": {
    "name": "ipython",
    "version": 3
   },
   "file_extension": ".py",
   "mimetype": "text/x-python",
   "name": "python",
   "nbconvert_exporter": "python",
   "pygments_lexer": "ipython3",
   "version": "3.8.3"
  }
 },
 "nbformat": 4,
 "nbformat_minor": 4
}
