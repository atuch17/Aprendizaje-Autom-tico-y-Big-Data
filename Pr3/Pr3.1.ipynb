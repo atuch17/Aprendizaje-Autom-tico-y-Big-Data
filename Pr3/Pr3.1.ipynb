{
 "cells": [
  {
   "cell_type": "markdown",
   "metadata": {},
   "source": [
    "# PRÁCTICA 3.1 - VÍCTOR CHOZA MERINO - ADRIÁN TURIEL CHARRO"
   ]
  },
  {
   "cell_type": "markdown",
   "metadata": {},
   "source": [
    "## 1. Regresión logística multi-clase"
   ]
  },
  {
   "cell_type": "code",
   "execution_count": 1,
   "metadata": {},
   "outputs": [],
   "source": [
    "import matplotlib.pyplot as plt\n",
    "import numpy as np\n",
    "import scipy.optimize as opt\n",
    "from scipy.io import loadmat"
   ]
  },
  {
   "cell_type": "code",
   "execution_count": 2,
   "metadata": {},
   "outputs": [],
   "source": [
    "def sigmoide(z): # g(z)\n",
    "    return (1 / (1 + np.exp(-z)))"
   ]
  },
  {
   "cell_type": "code",
   "execution_count": 3,
   "metadata": {},
   "outputs": [],
   "source": [
    "def gradiente(Thetas, X, Y, lambdaa):\n",
    "    H = sigmoide(X @ Thetas) # Hipótesis\n",
    "\n",
    "    return (1/len(X)) * (X.T @ (H-np.ravel(Y))) + (lambdaa/len(X)) * Thetas"
   ]
  },
  {
   "cell_type": "code",
   "execution_count": 4,
   "metadata": {},
   "outputs": [],
   "source": [
    "def coste(Thetas, X, Y, lambdaa):\n",
    "    H = sigmoide(X @ Thetas) # Hipótesis\n",
    "\n",
    "    return (-1/len(X)) * (np.log(H).T @ Y + (1-np.ravel(Y)) @ np.log(1-H+1e-6)) + (lambdaa/(2*len(X))) * sum(Thetas[1:]**2)"
   ]
  },
  {
   "cell_type": "code",
   "execution_count": 5,
   "metadata": {},
   "outputs": [],
   "source": [
    "def porcentaje_acertado(X, y, H):\n",
    "    \n",
    "    pos_max = np.argmax(H,axis=1)+1\n",
    "    suma = sum(pos_max[:,np.newaxis]==y)\n",
    "                \n",
    "    return ((suma/np.shape(H)[0])*100)[0]"
   ]
  },
  {
   "cell_type": "code",
   "execution_count": 6,
   "metadata": {},
   "outputs": [],
   "source": [
    "def dibujar(X):\n",
    "    # Selecciona aleatoriamente 10 ejemplos y los pinta\n",
    "    sample = np.random.choice(X.shape[0], 10)\n",
    "    plt.imshow(X[sample,:].reshape(-1, 20).T)\n",
    "    plt.axis('off')\n",
    "    plt.show()"
   ]
  },
  {
   "cell_type": "code",
   "execution_count": 7,
   "metadata": {},
   "outputs": [],
   "source": [
    "def oneVsAll (X, y, num_etiquetas , reg) : # reg = lambda\n",
    "    #oneVsAll entrena varios clasificadores por regresión logística con término\n",
    "    #de regularización 'reg' y devuelve el resultado en una matriz, donde\n",
    "    #la fila i−ésima corresponde al clasificador de la etiqueta i−ésima\n",
    "\n",
    "    Thetas = np.zeros(np.shape(X)[1])   # (401, )\n",
    "    All_Thetas = np.zeros([num_etiquetas, np.shape(Thetas)[0]]) # (10, 401)\n",
    "    \n",
    "    for i in range(num_etiquetas):\n",
    "        y_add = (y == (i+1)) * 1      # vector de booleanos\n",
    "        result = opt.fmin_tnc (func=coste , x0=Thetas , fprime=gradiente , args=(X, y_add, reg))\n",
    "        All_Thetas[i, :] = result[0]\n",
    "    \n",
    "    return All_Thetas"
   ]
  },
  {
   "cell_type": "code",
   "execution_count": 8,
   "metadata": {},
   "outputs": [],
   "source": [
    "def regresion_logistica_multi_clase(data, reg):\n",
    "    data = loadmat (data)\n",
    "    # se pueden consultar claves con data.keys()\n",
    "    y = data ['y'] # (5000,1)\n",
    "    X = data ['X'] # (5000,400) Cada fila es una imagen de 20x20 píxeles (400) \n",
    "    \n",
    "    dibujar(X)\n",
    "\n",
    "    m = np.shape(X)[0]\n",
    "    X1s = np.hstack([np.ones([m, 1]), X])   #  (5000, 401)\n",
    "\n",
    "    All_Thetas = oneVsAll(X1s, y, 10, reg)\n",
    "    \n",
    "    print(\"Precisión:\", porcentaje_acertado(X1s, y, sigmoide(X1s @ All_Thetas.T)),'%')    "
   ]
  },
  {
   "cell_type": "code",
   "execution_count": 9,
   "metadata": {},
   "outputs": [
    {
     "data": {
      "image/png": "[encoded data removed]",
      "text/plain": [
       "<Figure size 432x288 with 1 Axes>"
      ]
     },
     "metadata": {
      "needs_background": "light"
     },
     "output_type": "display_data"
    },
    {
     "name": "stdout",
     "output_type": "stream",
     "text": [
      "Precisión: 96.48 %\n"
     ]
    }
   ],
   "source": [
    "regresion_logistica_multi_clase('ex3data1.mat', 0.1)"
   ]
  }
 ],
 "metadata": {
  "kernelspec": {
   "display_name": "Python 3",
   "language": "python",
   "name": "python3"
  },
  "language_info": {
   "codemirror_mode": {
    "name": "ipython",
    "version": 3
   },
   "file_extension": ".py",
   "mimetype": "text/x-python",
   "name": "python",
   "nbconvert_exporter": "python",
   "pygments_lexer": "ipython3",
   "version": "3.8.3"
  }
 },
 "nbformat": 4,
 "nbformat_minor": 4
}
